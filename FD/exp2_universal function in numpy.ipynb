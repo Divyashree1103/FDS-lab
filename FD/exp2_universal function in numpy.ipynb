{
 "cells": [
  {
   "cell_type": "markdown",
   "metadata": {
    "id": "-pPzLofugQZv"
   },
   "source": [
    "**vithu jadhav , Roll no -50 , CSE(AI&ML)**"
   ]
  },
  {
   "cell_type": "markdown",
   "metadata": {
    "id": "yif8Mg9fscMD"
   },
   "source": [
    "**Statistical functions**\n"
   ]
  },
  {
   "cell_type": "code",
   "execution_count": 1,
   "metadata": {
    "id": "E4Uy6kcyk3xJ"
   },
   "outputs": [],
   "source": [
    "import numpy as np\n",
    "weight = np.array([50.7, 52.5, 50, 58, 55.63, 73.25, 49.5, 45])"
   ]
  },
  {
   "cell_type": "code",
   "execution_count": 2,
   "metadata": {
    "colab": {
     "base_uri": "https://localhost:8080/"
    },
    "executionInfo": {
     "elapsed": 7,
     "status": "ok",
     "timestamp": 1678799903305,
     "user": {
      "displayName": "NIhal Sayyad",
      "userId": "04815193151422272078"
     },
     "user_tz": -330
    },
    "id": "T3IUkVu7k34Z",
    "outputId": "85c12ce1-0c23-46ff-b11c-b964ffeb71e0"
   },
   "outputs": [
    {
     "name": "stdout",
     "output_type": "stream",
     "text": [
      "Minimum and maximum weight of the students: \n",
      "45.0 73.25\n"
     ]
    }
   ],
   "source": [
    "# minimum and maximum \n",
    "print('Minimum and maximum weight of the students: ')\n",
    "print(np.amin(weight), np.amax(weight))"
   ]
  },
  {
   "cell_type": "code",
   "execution_count": 3,
   "metadata": {
    "colab": {
     "base_uri": "https://localhost:8080/"
    },
    "executionInfo": {
     "elapsed": 6,
     "status": "ok",
     "timestamp": 1678799903306,
     "user": {
      "displayName": "NIhal Sayyad",
      "userId": "04815193151422272078"
     },
     "user_tz": -330
    },
    "id": "E-9IgJRLk38a",
    "outputId": "d91d2465-09a4-410f-a7ee-8b93cafbbb23"
   },
   "outputs": [
    {
     "name": "stdout",
     "output_type": "stream",
     "text": [
      "Range of the weight of the students: \n",
      "28.25\n"
     ]
    }
   ],
   "source": [
    "# range of weight i.e. max weight-min weight\n",
    "print('Range of the weight of the students: ')\n",
    "print(np.ptp(weight))"
   ]
  },
  {
   "cell_type": "code",
   "execution_count": 4,
   "metadata": {
    "colab": {
     "base_uri": "https://localhost:8080/"
    },
    "executionInfo": {
     "elapsed": 423,
     "status": "ok",
     "timestamp": 1678799903725,
     "user": {
      "displayName": "NIhal Sayyad",
      "userId": "04815193151422272078"
     },
     "user_tz": -330
    },
    "id": "QULWgG9Vk4DU",
    "outputId": "cea9444e-c9e4-47d7-f029-aae5eb52e6d6"
   },
   "outputs": [
    {
     "name": "stdout",
     "output_type": "stream",
     "text": [
      "Weight below which 70 % student fall: \n",
      "55.317\n"
     ]
    }
   ],
   "source": [
    "# percentile\n",
    "print('Weight below which 70 % student fall: ')\n",
    "print(np.percentile(weight, 70))"
   ]
  },
  {
   "cell_type": "code",
   "execution_count": 5,
   "metadata": {
    "colab": {
     "base_uri": "https://localhost:8080/"
    },
    "executionInfo": {
     "elapsed": 11,
     "status": "ok",
     "timestamp": 1678799903726,
     "user": {
      "displayName": "NIhal Sayyad",
      "userId": "04815193151422272078"
     },
     "user_tz": -330
    },
    "id": "v0lxGvOxk4Km",
    "outputId": "d2385b39-a52a-4f7f-d391-26108f0c63cf"
   },
   "outputs": [
    {
     "name": "stdout",
     "output_type": "stream",
     "text": [
      "Mean weight of the students: \n",
      "54.3225\n"
     ]
    }
   ],
   "source": [
    "# mean \n",
    "print('Mean weight of the students: ')\n",
    "print(np.mean(weight))"
   ]
  },
  {
   "cell_type": "code",
   "execution_count": 6,
   "metadata": {
    "colab": {
     "base_uri": "https://localhost:8080/"
    },
    "executionInfo": {
     "elapsed": 6,
     "status": "ok",
     "timestamp": 1678799903726,
     "user": {
      "displayName": "NIhal Sayyad",
      "userId": "04815193151422272078"
     },
     "user_tz": -330
    },
    "id": "3Ij_ww15k4OB",
    "outputId": "8ea5af2d-836c-48cc-8253-6ff5bc6c0a32"
   },
   "outputs": [
    {
     "name": "stdout",
     "output_type": "stream",
     "text": [
      "Median weight of the students: \n",
      "51.6\n"
     ]
    }
   ],
   "source": [
    "# median \n",
    "print('Median weight of the students: ')\n",
    "print(np.median(weight))"
   ]
  },
  {
   "cell_type": "code",
   "execution_count": 7,
   "metadata": {
    "colab": {
     "base_uri": "https://localhost:8080/"
    },
    "executionInfo": {
     "elapsed": 964,
     "status": "ok",
     "timestamp": 1678799904686,
     "user": {
      "displayName": "NIhal Sayyad",
      "userId": "04815193151422272078"
     },
     "user_tz": -330
    },
    "id": "Uxy_KGHUk4SM",
    "outputId": "84e57f6c-b241-43ef-cd44-2d66b49b22dc"
   },
   "outputs": [
    {
     "name": "stdout",
     "output_type": "stream",
     "text": [
      "Median weight of the students: \n",
      "ModeResult(mode=array([45.]), count=array([1]))\n"
     ]
    },
    {
     "name": "stderr",
     "output_type": "stream",
     "text": [
      "C:\\Users\\vithu\\AppData\\Local\\Temp\\ipykernel_7976\\2549076332.py:5: FutureWarning: Unlike other reduction functions (e.g. `skew`, `kurtosis`), the default behavior of `mode` typically preserves the axis it acts along. In SciPy 1.11.0, this behavior will change: the default value of `keepdims` will become False, the `axis` over which the statistic is taken will be eliminated, and the value None will no longer be accepted. Set `keepdims` to True or False to avoid this warning.\n",
      "  print(st.mode(weight))\n"
     ]
    }
   ],
   "source": [
    "# mode\n",
    "from scipy import stats as st\n",
    "import numpy as np\n",
    "print('Median weight of the students: ')\n",
    "print(st.mode(weight))"
   ]
  },
  {
   "cell_type": "code",
   "execution_count": 8,
   "metadata": {
    "colab": {
     "base_uri": "https://localhost:8080/"
    },
    "executionInfo": {
     "elapsed": 36,
     "status": "ok",
     "timestamp": 1678799904686,
     "user": {
      "displayName": "NIhal Sayyad",
      "userId": "04815193151422272078"
     },
     "user_tz": -330
    },
    "id": "oBlzYIhbuff0",
    "outputId": "f7a7ff85-97ee-4a2f-d0bf-1ddbc7b63cb5"
   },
   "outputs": [
    {
     "name": "stdout",
     "output_type": "stream",
     "text": [
      "Standard deviation of weight of the students: \n",
      "8.052773978574091\n"
     ]
    }
   ],
   "source": [
    "# standard deviation \n",
    "print('Standard deviation of weight of the students: ')\n",
    "print(np.std(weight))"
   ]
  },
  {
   "cell_type": "code",
   "execution_count": 9,
   "metadata": {
    "colab": {
     "base_uri": "https://localhost:8080/"
    },
    "executionInfo": {
     "elapsed": 33,
     "status": "ok",
     "timestamp": 1678799904687,
     "user": {
      "displayName": "NIhal Sayyad",
      "userId": "04815193151422272078"
     },
     "user_tz": -330
    },
    "id": "8F3eJON_ufiy",
    "outputId": "d86a6d7c-72af-45e8-8a31-4bd92fd63f27"
   },
   "outputs": [
    {
     "name": "stdout",
     "output_type": "stream",
     "text": [
      "Variance of weight of the students: \n",
      "64.84716875\n"
     ]
    }
   ],
   "source": [
    "# variance \n",
    "print('Variance of weight of the students: ')\n",
    "print(np.var(weight))"
   ]
  },
  {
   "cell_type": "code",
   "execution_count": 10,
   "metadata": {
    "colab": {
     "base_uri": "https://localhost:8080/"
    },
    "executionInfo": {
     "elapsed": 31,
     "status": "ok",
     "timestamp": 1678799904687,
     "user": {
      "displayName": "NIhal Sayyad",
      "userId": "04815193151422272078"
     },
     "user_tz": -330
    },
    "id": "_WSnQJYhuflq",
    "outputId": "0e26de72-cf98-4625-f846-d1534f14988f"
   },
   "outputs": [
    {
     "name": "stdout",
     "output_type": "stream",
     "text": [
      "Average weight of the students: \n",
      "54.3225\n"
     ]
    }
   ],
   "source": [
    "# average \n",
    "print('Average weight of the students: ')\n",
    "print(np.average(weight))"
   ]
  },
  {
   "cell_type": "markdown",
   "metadata": {
    "id": "AkimgxArshxh"
   },
   "source": [
    "**Trigonometric functions:**"
   ]
  },
  {
   "cell_type": "code",
   "execution_count": 11,
   "metadata": {
    "colab": {
     "base_uri": "https://localhost:8080/"
    },
    "executionInfo": {
     "elapsed": 29,
     "status": "ok",
     "timestamp": 1678799904687,
     "user": {
      "displayName": "NIhal Sayyad",
      "userId": "04815193151422272078"
     },
     "user_tz": -330
    },
    "id": "roafbQdVk3Ux",
    "outputId": "935a1c98-97dd-42fd-f707-2a271ca83127"
   },
   "outputs": [
    {
     "data": {
      "text/plain": [
       "array([0.        , 0.52359878, 0.78539816, 1.04719755, 1.57079633,\n",
       "       3.14159265])"
      ]
     },
     "execution_count": 11,
     "metadata": {},
     "output_type": "execute_result"
    }
   ],
   "source": [
    "angles = np.array([0, 30, 45, 60, 90, 180])\n",
    "\n",
    "# conversion of degree into radians\n",
    "# using deg2rad function\n",
    "radians = np.deg2rad(angles)\n",
    "radians"
   ]
  },
  {
   "cell_type": "code",
   "execution_count": 12,
   "metadata": {
    "colab": {
     "base_uri": "https://localhost:8080/"
    },
    "executionInfo": {
     "elapsed": 27,
     "status": "ok",
     "timestamp": 1678799904687,
     "user": {
      "displayName": "NIhal Sayyad",
      "userId": "04815193151422272078"
     },
     "user_tz": -330
    },
    "id": "kjuJ9dz4N2D2",
    "outputId": "b58f35ee-9332-4087-a14e-3112f899a008"
   },
   "outputs": [
    {
     "data": {
      "text/plain": [
       "array([    0.        ,  1718.87338539,  2578.31007809,  3437.74677078,\n",
       "        5156.62015618, 10313.24031235])"
      ]
     },
     "execution_count": 12,
     "metadata": {},
     "output_type": "execute_result"
    }
   ],
   "source": [
    "# conversion of degree into radians\n",
    "# using rad2deg function\n",
    "degree = np.rad2deg(angles)\n",
    "degree"
   ]
  },
  {
   "cell_type": "code",
   "execution_count": 13,
   "metadata": {
    "colab": {
     "base_uri": "https://localhost:8080/"
    },
    "executionInfo": {
     "elapsed": 26,
     "status": "ok",
     "timestamp": 1678799904687,
     "user": {
      "displayName": "NIhal Sayyad",
      "userId": "04815193151422272078"
     },
     "user_tz": -330
    },
    "id": "u2Q7gDZUk3bB",
    "outputId": "e226dfbc-83ca-4cf4-d8fa-fbc61ec55759"
   },
   "outputs": [
    {
     "name": "stdout",
     "output_type": "stream",
     "text": [
      "Sine of angles in the array:\n",
      "[0.00000000e+00 5.00000000e-01 7.07106781e-01 8.66025404e-01\n",
      " 1.00000000e+00 1.22464680e-16]\n"
     ]
    }
   ],
   "source": [
    "print('Sine of angles in the array:')\n",
    "sine_value = np.sin(radians)\n",
    "print(sine_value)"
   ]
  },
  {
   "cell_type": "code",
   "execution_count": 14,
   "metadata": {
    "colab": {
     "base_uri": "https://localhost:8080/"
    },
    "executionInfo": {
     "elapsed": 26,
     "status": "ok",
     "timestamp": 1678799904688,
     "user": {
      "displayName": "NIhal Sayyad",
      "userId": "04815193151422272078"
     },
     "user_tz": -330
    },
    "id": "0PPDEoCXk3d5",
    "outputId": "8603f65b-ba60-4f22-fb9b-3a611bf367db"
   },
   "outputs": [
    {
     "name": "stdout",
     "output_type": "stream",
     "text": [
      "Inverse Sine of sine values:\n",
      "[0.0000000e+00 3.0000000e+01 4.5000000e+01 6.0000000e+01 9.0000000e+01\n",
      " 7.0167093e-15]\n"
     ]
    }
   ],
   "source": [
    "print('Inverse Sine of sine values:')\n",
    "print(np.rad2deg(np.arcsin(sine_value)))"
   ]
  },
  {
   "cell_type": "code",
   "execution_count": 15,
   "metadata": {
    "colab": {
     "base_uri": "https://localhost:8080/"
    },
    "executionInfo": {
     "elapsed": 24,
     "status": "ok",
     "timestamp": 1678799904688,
     "user": {
      "displayName": "NIhal Sayyad",
      "userId": "04815193151422272078"
     },
     "user_tz": -330
    },
    "id": "uHEDay45k3gr",
    "outputId": "1f2c310f-8623-48d0-d192-50ae0eeb153d"
   },
   "outputs": [
    {
     "name": "stdout",
     "output_type": "stream",
     "text": [
      "Sine hyperbolic of angles in the array:\n",
      "[ 0.          0.54785347  0.86867096  1.24936705  2.3012989  11.54873936]\n"
     ]
    }
   ],
   "source": [
    "print('Sine hyperbolic of angles in the array:')\n",
    "sineh_value = np.sinh(radians)\n",
    "print(np.sinh(radians))"
   ]
  },
  {
   "cell_type": "code",
   "execution_count": 16,
   "metadata": {
    "colab": {
     "base_uri": "https://localhost:8080/"
    },
    "executionInfo": {
     "elapsed": 23,
     "status": "ok",
     "timestamp": 1678799904688,
     "user": {
      "displayName": "NIhal Sayyad",
      "userId": "04815193151422272078"
     },
     "user_tz": -330
    },
    "id": "cgH1Nfs9k3jl",
    "outputId": "36f382c4-b6e0-4309-8bf3-fed7870ccb60"
   },
   "outputs": [
    {
     "name": "stdout",
     "output_type": "stream",
     "text": [
      "Inverse Sine hyperbolic:\n",
      "[ 0.          0.52085606  0.76347126  0.94878485  0.74483916 -0.85086591]\n"
     ]
    }
   ],
   "source": [
    "print('Inverse Sine hyperbolic:')\n",
    "print(np.sin(sineh_value)) "
   ]
  },
  {
   "cell_type": "code",
   "execution_count": 17,
   "metadata": {
    "colab": {
     "base_uri": "https://localhost:8080/"
    },
    "executionInfo": {
     "elapsed": 22,
     "status": "ok",
     "timestamp": 1678799904688,
     "user": {
      "displayName": "NIhal Sayyad",
      "userId": "04815193151422272078"
     },
     "user_tz": -330
    },
    "id": "6gw9hqhqmBD_",
    "outputId": "a9812dae-004b-460f-d1ec-9e59a175a79b"
   },
   "outputs": [
    {
     "name": "stdout",
     "output_type": "stream",
     "text": [
      "Sine of angles in the array:\n",
      "[ 1.00000000e+00  8.66025404e-01  7.07106781e-01  5.00000000e-01\n",
      "  6.12323400e-17 -1.00000000e+00]\n"
     ]
    }
   ],
   "source": [
    "print('Sine of angles in the array:')\n",
    "cos_value = np.cos(radians)\n",
    "print(cos_value)"
   ]
  },
  {
   "cell_type": "code",
   "execution_count": 18,
   "metadata": {
    "colab": {
     "base_uri": "https://localhost:8080/"
    },
    "executionInfo": {
     "elapsed": 21,
     "status": "ok",
     "timestamp": 1678799904688,
     "user": {
      "displayName": "NIhal Sayyad",
      "userId": "04815193151422272078"
     },
     "user_tz": -330
    },
    "id": "U6lYJvJkmBGi",
    "outputId": "d4b015f3-842e-4f63-d390-ab043eab4104"
   },
   "outputs": [
    {
     "name": "stdout",
     "output_type": "stream",
     "text": [
      "Sine of angles in the array:\n",
      "[0.         0.55106958 0.90333911        nan        nan        nan]\n"
     ]
    },
    {
     "name": "stderr",
     "output_type": "stream",
     "text": [
      "C:\\Users\\vithu\\AppData\\Local\\Temp\\ipykernel_7976\\1950592906.py:2: RuntimeWarning: invalid value encountered in arcsin\n",
      "  arcsin_value = np.arcsin(radians)\n"
     ]
    }
   ],
   "source": [
    "print('Sine of angles in the array:')\n",
    "arcsin_value = np.arcsin(radians)\n",
    "print(arcsin_value)"
   ]
  },
  {
   "cell_type": "code",
   "execution_count": 19,
   "metadata": {
    "colab": {
     "base_uri": "https://localhost:8080/"
    },
    "executionInfo": {
     "elapsed": 21,
     "status": "ok",
     "timestamp": 1678799904689,
     "user": {
      "displayName": "NIhal Sayyad",
      "userId": "04815193151422272078"
     },
     "user_tz": -330
    },
    "id": "RcQYMhIZOTED",
    "outputId": "1de6a9bb-c459-4027-cb16-9ad3c896ed82"
   },
   "outputs": [
    {
     "name": "stdout",
     "output_type": "stream",
     "text": [
      "Hyperbolic inverse sine:\n",
      "[0.         0.50221899 0.72122549 0.91435666 1.23340312 1.86229574]\n"
     ]
    }
   ],
   "source": [
    "print('Hyperbolic inverse sine:')\n",
    "sine_value = np.arcsinh(radians)\n",
    "print(sine_value)"
   ]
  },
  {
   "cell_type": "code",
   "execution_count": 20,
   "metadata": {
    "colab": {
     "base_uri": "https://localhost:8080/"
    },
    "executionInfo": {
     "elapsed": 20,
     "status": "ok",
     "timestamp": 1678799904689,
     "user": {
      "displayName": "NIhal Sayyad",
      "userId": "04815193151422272078"
     },
     "user_tz": -330
    },
    "id": "9Vu_z2plOTKL",
    "outputId": "c2f48678-3107-42c2-c508-0ca4221a8f8a"
   },
   "outputs": [
    {
     "name": "stdout",
     "output_type": "stream",
     "text": [
      "Hyperbolic inverse cos:\n",
      "[0.         0.50221899 0.72122549 0.91435666 1.23340312 1.86229574]\n"
     ]
    }
   ],
   "source": [
    "print('Hyperbolic inverse cos:')\n",
    "sine_value = np.arcsinh(radians)\n",
    "print(sine_value)"
   ]
  },
  {
   "cell_type": "code",
   "execution_count": 21,
   "metadata": {
    "colab": {
     "base_uri": "https://localhost:8080/"
    },
    "executionInfo": {
     "elapsed": 20,
     "status": "ok",
     "timestamp": 1678799904689,
     "user": {
      "displayName": "NIhal Sayyad",
      "userId": "04815193151422272078"
     },
     "user_tz": -330
    },
    "id": "WrhOxVakOTpf",
    "outputId": "dd949991-2bf2-446a-ef00-3a2181308f45"
   },
   "outputs": [
    {
     "name": "stdout",
     "output_type": "stream",
     "text": [
      "Hyperbolic inverse tan:\n",
      "[0.         0.50221899 0.72122549 0.91435666 1.23340312 1.86229574]\n"
     ]
    }
   ],
   "source": [
    "print('Hyperbolic inverse tan:')\n",
    "sine_value = np.arcsinh(radians)\n",
    "print(sine_value)"
   ]
  },
  {
   "cell_type": "code",
   "execution_count": 22,
   "metadata": {
    "colab": {
     "base_uri": "https://localhost:8080/"
    },
    "executionInfo": {
     "elapsed": 19,
     "status": "ok",
     "timestamp": 1678799904689,
     "user": {
      "displayName": "NIhal Sayyad",
      "userId": "04815193151422272078"
     },
     "user_tz": -330
    },
    "id": "eapsxNeDk3mx",
    "outputId": "07f28d2b-8cee-4d69-f9a6-53bc15400a3d"
   },
   "outputs": [
    {
     "name": "stdout",
     "output_type": "stream",
     "text": [
      "hypotenuse of right triangle is:\n",
      "5.0\n"
     ]
    }
   ],
   "source": [
    "# hypot function demonstration\n",
    "base = 4\n",
    "height = 3\n",
    "print('hypotenuse of right triangle is:')\n",
    "print(np.hypot(base, height))"
   ]
  },
  {
   "cell_type": "markdown",
   "metadata": {
    "id": "3Ft5xBjGO6uf"
   },
   "source": [
    "**bitwise function:**"
   ]
  },
  {
   "cell_type": "code",
   "execution_count": 25,
   "metadata": {
    "colab": {
     "base_uri": "https://localhost:8080/"
    },
    "executionInfo": {
     "elapsed": 19,
     "status": "ok",
     "timestamp": 1678799904690,
     "user": {
      "displayName": "NIhal Sayyad",
      "userId": "04815193151422272078"
     },
     "user_tz": -330
    },
    "id": "Dmk3KzqaO78z",
    "outputId": "ed2e1ddd-2036-4e95-93ba-d6afcf8f1cfa"
   },
   "outputs": [
    {
     "name": "stdout",
     "output_type": "stream",
     "text": [
      "binary representation of a: 0b1010\n",
      "Bitwise-and of a and b:  8\n"
     ]
    }
   ],
   "source": [
    "#bitwise_and  \n",
    "a = 10  \n",
    "b = 12  \n",
    "print(\"binary representation of a:\",bin(a))   \n",
    "print(\"Bitwise-and of a and b: \",np.bitwise_and(a,b))"
   ]
  },
  {
   "cell_type": "code",
   "execution_count": 26,
   "metadata": {
    "colab": {
     "base_uri": "https://localhost:8080/"
    },
    "executionInfo": {
     "elapsed": 18,
     "status": "ok",
     "timestamp": 1678799904690,
     "user": {
      "displayName": "NIhal Sayyad",
      "userId": "04815193151422272078"
     },
     "user_tz": -330
    },
    "id": "zEwt0_KiO8E7",
    "outputId": "b47331de-f1e6-4c1d-884a-47d16321b5c5"
   },
   "outputs": [
    {
     "name": "stdout",
     "output_type": "stream",
     "text": [
      "Bitwise-or of a and b:  122\n"
     ]
    }
   ],
   "source": [
    "#bitwies_or \n",
    "a = 50  \n",
    "b = 90    \n",
    "print(\"Bitwise-or of a and b: \",np.bitwise_or(a,b)) "
   ]
  },
  {
   "cell_type": "code",
   "execution_count": 27,
   "metadata": {
    "colab": {
     "base_uri": "https://localhost:8080/"
    },
    "executionInfo": {
     "elapsed": 17,
     "status": "ok",
     "timestamp": 1678799904690,
     "user": {
      "displayName": "NIhal Sayyad",
      "userId": "04815193151422272078"
     },
     "user_tz": -330
    },
    "id": "VsKfJQ79O8Hi",
    "outputId": "55c9daf1-b20b-47fc-ef53-1a16da2a5897"
   },
   "outputs": [
    {
     "name": "stdout",
     "output_type": "stream",
     "text": [
      "Bitwise-or representation: 25\n",
      "Binary-or representation: [27  4]\n"
     ]
    }
   ],
   "source": [
    "#bitwise_xor\n",
    "print(\"Bitwise-or representation:\",np.bitwise_xor(28, 5))\n",
    "print(\"Binary-or representation:\",np.bitwise_xor([28, 3], 7))"
   ]
  },
  {
   "cell_type": "code",
   "execution_count": 28,
   "metadata": {
    "colab": {
     "base_uri": "https://localhost:8080/"
    },
    "executionInfo": {
     "elapsed": 16,
     "status": "ok",
     "timestamp": 1678799904690,
     "user": {
      "displayName": "NIhal Sayyad",
      "userId": "04815193151422272078"
     },
     "user_tz": -330
    },
    "id": "CdceoiHmO8KN",
    "outputId": "4b2d7305-5d8b-4a01-f5a5-e14633d20062"
   },
   "outputs": [
    {
     "name": "stdout",
     "output_type": "stream",
     "text": [
      "Binary representation: 00010100\n",
      "[235]\n"
     ]
    }
   ],
   "source": [
    "#invert\n",
    "arr = np.array([20],dtype = np.uint8)  \n",
    "print(\"Binary representation:\",np.binary_repr(20,8))  \n",
    "print(np.invert(arr)) "
   ]
  },
  {
   "cell_type": "code",
   "execution_count": 29,
   "metadata": {
    "colab": {
     "base_uri": "https://localhost:8080/"
    },
    "executionInfo": {
     "elapsed": 16,
     "status": "ok",
     "timestamp": 1678799904691,
     "user": {
      "displayName": "NIhal Sayyad",
      "userId": "04815193151422272078"
     },
     "user_tz": -330
    },
    "id": "VkaEy56dO8ND",
    "outputId": "78f17171-bff1-40cd-ba92-f1248b3714f4"
   },
   "outputs": [
    {
     "name": "stdout",
     "output_type": "stream",
     "text": [
      "left shift of 20 by 3 bits 160\n",
      "Binary representation of 20 in 8 bits 00010100\n"
     ]
    }
   ],
   "source": [
    "#left_shift\n",
    "print(\"left shift of 20 by 3 bits\",np.left_shift(20, 3))  \n",
    "print(\"Binary representation of 20 in 8 bits\",np.binary_repr(20, 8))   "
   ]
  },
  {
   "cell_type": "code",
   "execution_count": 30,
   "metadata": {
    "colab": {
     "base_uri": "https://localhost:8080/"
    },
    "executionInfo": {
     "elapsed": 15,
     "status": "ok",
     "timestamp": 1678799904691,
     "user": {
      "displayName": "NIhal Sayyad",
      "userId": "04815193151422272078"
     },
     "user_tz": -330
    },
    "id": "Erf-OiWaO8Pq",
    "outputId": "39e21ef0-ad77-4c40-dd3f-c8d130e9997e"
   },
   "outputs": [
    {
     "name": "stdout",
     "output_type": "stream",
     "text": [
      "left shift of 20 by 3 bits 2\n",
      "Binary representation of 20 in 8 bits 00010100\n"
     ]
    }
   ],
   "source": [
    "#right_shift\n",
    "print(\"left shift of 20 by 3 bits\",np.right_shift(20, 3))  \n",
    "print(\"Binary representation of 20 in 8 bits\",np.binary_repr(20, 8))  "
   ]
  },
  {
   "cell_type": "code",
   "execution_count": null,
   "metadata": {},
   "outputs": [],
   "source": []
  }
 ],
 "metadata": {
  "colab": {
   "provenance": []
  },
  "kernelspec": {
   "display_name": "Python 3 (ipykernel)",
   "language": "python",
   "name": "python3"
  },
  "language_info": {
   "codemirror_mode": {
    "name": "ipython",
    "version": 3
   },
   "file_extension": ".py",
   "mimetype": "text/x-python",
   "name": "python",
   "nbconvert_exporter": "python",
   "pygments_lexer": "ipython3",
   "version": "3.11.3"
  }
 },
 "nbformat": 4,
 "nbformat_minor": 1
}
