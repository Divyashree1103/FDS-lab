{
 "cells": [
  {
   "cell_type": "markdown",
   "metadata": {
    "id": "4jlNj16XgE5c"
   },
   "source": [
    "**vithu jadhav , Roll no - 50 , CSE(AI&ML)**"
   ]
  },
  {
   "cell_type": "markdown",
   "metadata": {
    "id": "arGJJ5mbSSVT"
   },
   "source": [
    "**Mounting Google Drive to read the dataset.**"
   ]
  },
  {
   "cell_type": "code",
   "execution_count": null,
   "metadata": {
    "colab": {
     "base_uri": "https://localhost:8080/"
    },
    "executionInfo": {
     "elapsed": 4679,
     "status": "ok",
     "timestamp": 1678802264075,
     "user": {
      "displayName": "NIhal Sayyad",
      "userId": "04815193151422272078"
     },
     "user_tz": -330
    },
    "id": "oGO2loBBSV-c",
    "outputId": "b7257a3d-a9d7-4be6-83c4-dd565716a010"
   },
   "outputs": [
    {
     "name": "stdout",
     "output_type": "stream",
     "text": [
      "Drive already mounted at /content/gdrive; to attempt to forcibly remount, call drive.mount(\"/content/gdrive\", force_remount=True).\n"
     ]
    }
   ],
   "source": [
    "from google.colab import drive \n",
    "drive.mount(\"/content/gdrive\")"
   ]
  },
  {
   "cell_type": "code",
   "execution_count": 1,
   "metadata": {
    "id": "obancpUTSWDS"
   },
   "outputs": [
    {
     "ename": "ModuleNotFoundError",
     "evalue": "No module named 'pandas'",
     "output_type": "error",
     "traceback": [
      "\u001b[1;31m---------------------------------------------------------------------------\u001b[0m",
      "\u001b[1;31mModuleNotFoundError\u001b[0m                       Traceback (most recent call last)",
      "Cell \u001b[1;32mIn[1], line 1\u001b[0m\n\u001b[1;32m----> 1\u001b[0m \u001b[38;5;28;01mimport\u001b[39;00m \u001b[38;5;21;01mpandas\u001b[39;00m \u001b[38;5;28;01mas\u001b[39;00m \u001b[38;5;21;01mpd\u001b[39;00m \n\u001b[0;32m      2\u001b[0m data \u001b[38;5;241m=\u001b[39m pd\u001b[38;5;241m.\u001b[39mread_csv(\u001b[38;5;124m'\u001b[39m\u001b[38;5;124m/content/gdrive/My Drive/Data Science lab/Data analysis.csv\u001b[39m\u001b[38;5;124m'\u001b[39m)\n",
      "\u001b[1;31mModuleNotFoundError\u001b[0m: No module named 'pandas'"
     ]
    }
   ],
   "source": [
    "import pandas as pd \n",
    "data = pd.read_csv('/content/gdrive/My Drive/Data Science lab/Data analysis.csv')"
   ]
  },
  {
   "cell_type": "code",
   "execution_count": null,
   "metadata": {
    "colab": {
     "base_uri": "https://localhost:8080/"
    },
    "executionInfo": {
     "elapsed": 15,
     "status": "ok",
     "timestamp": 1678802264076,
     "user": {
      "displayName": "NIhal Sayyad",
      "userId": "04815193151422272078"
     },
     "user_tz": -330
    },
    "id": "RWtfsHAISWFG",
    "outputId": "909a802a-aeeb-44c5-fd71-b1f966007cd6"
   },
   "outputs": [
    {
     "name": "stdout",
     "output_type": "stream",
     "text": [
      "        0\n",
      "0  Python\n",
      "1  Pandas\n"
     ]
    }
   ],
   "source": [
    "#Python Pandas Data Structure\n",
    "#DataFrame\n",
    "import pandas as pd  \n",
    "# a list of strings  \n",
    "x = ['Python', 'Pandas']  \n",
    "# Calling DataFrame constructor on list  \n",
    "df = pd.DataFrame(x)  \n",
    "print(df)"
   ]
  },
  {
   "cell_type": "code",
   "execution_count": null,
   "metadata": {
    "colab": {
     "base_uri": "https://localhost:8080/"
    },
    "executionInfo": {
     "elapsed": 13,
     "status": "ok",
     "timestamp": 1678802264076,
     "user": {
      "displayName": "NIhal Sayyad",
      "userId": "04815193151422272078"
     },
     "user_tz": -330
    },
    "id": "Lzbe0gCtSWHb",
    "outputId": "90aa0f8a-5e8f-46fb-af24-873a76d18d7f"
   },
   "outputs": [
    {
     "name": "stdout",
     "output_type": "stream",
     "text": [
      "0    P\n",
      "1    a\n",
      "2    n\n",
      "3    d\n",
      "4    a\n",
      "5    s\n",
      "dtype: object\n"
     ]
    }
   ],
   "source": [
    "#Series\n",
    "import numpy as np  \n",
    "info = np.array(['P','a','n','d','a','s'])  \n",
    "a = pd.Series(info)  \n",
    "print(a)  "
   ]
  },
  {
   "cell_type": "code",
   "execution_count": null,
   "metadata": {
    "colab": {
     "base_uri": "https://localhost:8080/"
    },
    "executionInfo": {
     "elapsed": 11,
     "status": "ok",
     "timestamp": 1678802264076,
     "user": {
      "displayName": "NIhal Sayyad",
      "userId": "04815193151422272078"
     },
     "user_tz": -330
    },
    "id": "gwZSlsYYSWMY",
    "outputId": "2bc42fb6-306b-4571-9b85-6d9e7ca8b9df"
   },
   "outputs": [
    {
     "name": "stdout",
     "output_type": "stream",
     "text": [
      "           P1\n",
      "0    4.166667\n",
      "1    4.166667\n",
      "2    4.166667\n",
      "3    4.166667\n",
      "4    4.166667\n",
      "..        ...\n",
      "114  4.500000\n",
      "115  4.500000\n",
      "116  4.500000\n",
      "117  4.750000\n",
      "118  4.500000\n",
      "\n",
      "[119 rows x 1 columns]\n",
      "           P1        P2   P3\n",
      "0    4.166667  5.000000  5.0\n",
      "1    4.166667  5.000000  5.0\n",
      "2    4.166667  5.000000  5.0\n",
      "3    4.166667  5.000000  5.0\n",
      "4    4.166667  5.000000  5.0\n",
      "..        ...       ...  ...\n",
      "114  4.500000  4.500000  3.5\n",
      "115  4.500000  4.500000  3.5\n",
      "116  4.500000  4.666667  5.0\n",
      "117  4.750000  4.666667  4.0\n",
      "118  4.500000  4.833333  4.5\n",
      "\n",
      "[119 rows x 3 columns]\n"
     ]
    }
   ],
   "source": [
    "#Pandas Slicing\n",
    "#Pandas loc vs. iloc \n",
    "#if I wants a perticular row and column from the dataset's\n",
    "from pandas import DataFrame\n",
    "df = DataFrame(data)\n",
    "df1=df[['P1']]\n",
    "print(df1)\n",
    "df2=df[['P1','P2','P3']]\n",
    "print(df2)"
   ]
  },
  {
   "cell_type": "code",
   "execution_count": null,
   "metadata": {
    "colab": {
     "base_uri": "https://localhost:8080/"
    },
    "executionInfo": {
     "elapsed": 11,
     "status": "ok",
     "timestamp": 1678802264077,
     "user": {
      "displayName": "NIhal Sayyad",
      "userId": "04815193151422272078"
     },
     "user_tz": -330
    },
    "id": "hAP3Eo1OSWO_",
    "outputId": "3e5ed764-f246-4e32-9366-1ea4fb5985b0"
   },
   "outputs": [
    {
     "name": "stdout",
     "output_type": "stream",
     "text": [
      "P1    4.166667\n",
      "P2    5.000000\n",
      "P3    5.000000\n",
      "P4    5.000000\n",
      "P5    5.000000\n",
      "P6    5.000000\n",
      "Name: 3, dtype: float64\n"
     ]
    }
   ],
   "source": [
    "## retrieving rows by iloc method \n",
    "row2 = data.iloc[3] \n",
    "print(row2)"
   ]
  },
  {
   "cell_type": "code",
   "execution_count": null,
   "metadata": {
    "colab": {
     "base_uri": "https://localhost:8080/"
    },
    "executionInfo": {
     "elapsed": 10,
     "status": "ok",
     "timestamp": 1678802264077,
     "user": {
      "displayName": "NIhal Sayyad",
      "userId": "04815193151422272078"
     },
     "user_tz": -330
    },
    "id": "GwShOKlxVqv0",
    "outputId": "57eee160-1ebf-4206-b6c9-72e6eff3eeac"
   },
   "outputs": [
    {
     "name": "stdout",
     "output_type": "stream",
     "text": [
      "           P1        P2   P3\n",
      "0    4.166667  5.000000  5.0\n",
      "1    4.166667  5.000000  5.0\n",
      "2    4.166667  5.000000  5.0\n",
      "3    4.166667  5.000000  5.0\n",
      "4    4.166667  5.000000  5.0\n",
      "..        ...       ...  ...\n",
      "114  4.500000  4.500000  3.5\n",
      "115  4.500000  4.500000  3.5\n",
      "116  4.500000  4.666667  5.0\n",
      "117  4.750000  4.666667  4.0\n",
      "118  4.500000  4.833333  4.5\n",
      "\n",
      "[119 rows x 3 columns]\n"
     ]
    }
   ],
   "source": [
    "#Retrieving all rows and some columns by loc method\n",
    "df3= data.loc[:, [\"P1\",\"P2\",\"P3\"]]\n",
    "print(df3)"
   ]
  },
  {
   "cell_type": "code",
   "execution_count": null,
   "metadata": {
    "colab": {
     "base_uri": "https://localhost:8080/"
    },
    "executionInfo": {
     "elapsed": 9,
     "status": "ok",
     "timestamp": 1678802264077,
     "user": {
      "displayName": "NIhal Sayyad",
      "userId": "04815193151422272078"
     },
     "user_tz": -330
    },
    "id": "jTQ4ZsgLVq34",
    "outputId": "237ad3cb-45fa-46e8-f8d7-6ca8d141bccb"
   },
   "outputs": [
    {
     "name": "stdout",
     "output_type": "stream",
     "text": [
      "           P1        P2   P3\n",
      "0    4.166667  5.000000  5.0\n",
      "1    4.166667  5.000000  5.0\n",
      "2    4.166667  5.000000  5.0\n",
      "3    4.166667  5.000000  5.0\n",
      "4    4.166667  5.000000  5.0\n",
      "..        ...       ...  ...\n",
      "114  4.500000  4.500000  3.5\n",
      "115  4.500000  4.500000  3.5\n",
      "116  4.500000  4.666667  5.0\n",
      "117  4.750000  4.666667  4.0\n",
      "118  4.500000  4.833333  4.5\n",
      "\n",
      "[119 rows x 3 columns]\n"
     ]
    }
   ],
   "source": [
    "## retrieving all rows and some columns by iloc method \n",
    "row3 = data.iloc [:, [0, 1, 2]]\n",
    "print(row3)"
   ]
  },
  {
   "cell_type": "code",
   "execution_count": null,
   "metadata": {
    "colab": {
     "base_uri": "https://localhost:8080/"
    },
    "executionInfo": {
     "elapsed": 9,
     "status": "ok",
     "timestamp": 1678802264077,
     "user": {
      "displayName": "NIhal Sayyad",
      "userId": "04815193151422272078"
     },
     "user_tz": -330
    },
    "id": "4lM0dxIBVq6e",
    "outputId": "c8953e8b-b930-4603-a622-6d3322fc9404"
   },
   "outputs": [
    {
     "name": "stdout",
     "output_type": "stream",
     "text": [
      "    P2   P3\n",
      "3  5.0  5.0\n",
      "4  5.0  5.0\n"
     ]
    }
   ],
   "source": [
    "# retrieving two rows and two columns by iloc method \n",
    "row3 = data.iloc [[3, 4], \n",
    "                  [1, 2]]\n",
    "print(row3)"
   ]
  },
  {
   "cell_type": "code",
   "execution_count": null,
   "metadata": {
    "colab": {
     "base_uri": "https://localhost:8080/"
    },
    "executionInfo": {
     "elapsed": 8,
     "status": "ok",
     "timestamp": 1678802264077,
     "user": {
      "displayName": "NIhal Sayyad",
      "userId": "04815193151422272078"
     },
     "user_tz": -330
    },
    "id": "qNz71jZ7VrB6",
    "outputId": "480a6a23-0e02-464a-f26a-8fc85ed8be9c"
   },
   "outputs": [
    {
     "name": "stdout",
     "output_type": "stream",
     "text": [
      "         P1   P2   P3  P4   P5  P6\n",
      "1  4.166667  5.0  5.0   5  5.0   5\n",
      "2  4.166667  5.0  5.0   5  5.0   5\n",
      "3  4.166667  5.0  5.0   5  5.0   5\n",
      "4  4.166667  5.0  5.0   5  5.0   5\n"
     ]
    }
   ],
   "source": [
    "# retrieving some rows and all the columns\n",
    "row4 = data.iloc [1:5,:]\n",
    "print(row4)"
   ]
  },
  {
   "cell_type": "code",
   "execution_count": null,
   "metadata": {
    "colab": {
     "base_uri": "https://localhost:8080/"
    },
    "executionInfo": {
     "elapsed": 7,
     "status": "ok",
     "timestamp": 1678802264077,
     "user": {
      "displayName": "NIhal Sayyad",
      "userId": "04815193151422272078"
     },
     "user_tz": -330
    },
    "id": "tQsovyuwVrEh",
    "outputId": "181ac9e2-3ee9-45ae-85e5-5accee171fdf"
   },
   "outputs": [
    {
     "name": "stdout",
     "output_type": "stream",
     "text": [
      "               0          1          2\n",
      "count   3.000000   3.000000   3.000000\n",
      "mean   10.666667  17.666667   7.333333\n",
      "std     2.081666   2.516611   4.041452\n",
      "min     9.000000  15.000000   3.000000\n",
      "25%     9.500000  16.500000   5.500000\n",
      "50%    10.000000  18.000000   8.000000\n",
      "75%    11.500000  19.000000   9.500000\n",
      "max    13.000000  20.000000  11.000000\n"
     ]
    }
   ],
   "source": [
    "#Describe()\n",
    "data = [[10, 18, 11], [13, 15, 8], [9, 20, 3]]\n",
    "df = pd.DataFrame(data)\n",
    "print(df.describe())"
   ]
  },
  {
   "cell_type": "code",
   "execution_count": null,
   "metadata": {
    "colab": {
     "base_uri": "https://localhost:8080/"
    },
    "executionInfo": {
     "elapsed": 7,
     "status": "ok",
     "timestamp": 1678802264078,
     "user": {
      "displayName": "NIhal Sayyad",
      "userId": "04815193151422272078"
     },
     "user_tz": -330
    },
    "id": "LbMZI1MfX0ZU",
    "outputId": "e69630bd-e7f5-4ca8-e7da-43fcead74673"
   },
   "outputs": [
    {
     "name": "stdout",
     "output_type": "stream",
     "text": [
      "(3, 3)\n"
     ]
    }
   ],
   "source": [
    "#shape()\n",
    "print(df.shape)"
   ]
  }
 ],
 "metadata": {
  "colab": {
   "authorship_tag": "ABX9TyMsZQ6AsprlQU8YuaDEKp6U",
   "provenance": []
  },
  "kernelspec": {
   "display_name": "Python 3 (ipykernel)",
   "language": "python",
   "name": "python3"
  },
  "language_info": {
   "codemirror_mode": {
    "name": "ipython",
    "version": 3
   },
   "file_extension": ".py",
   "mimetype": "text/x-python",
   "name": "python",
   "nbconvert_exporter": "python",
   "pygments_lexer": "ipython3",
   "version": "3.11.3"
  }
 },
 "nbformat": 4,
 "nbformat_minor": 1
}
