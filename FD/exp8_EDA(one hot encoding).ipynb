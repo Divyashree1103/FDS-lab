{
 "cells": [
  {
   "cell_type": "markdown",
   "metadata": {
    "id": "crq_0auApmWW"
   },
   "source": [
    "## One Hot / Dummy Encoding Method"
   ]
  },
  {
   "cell_type": "code",
   "execution_count": 4,
   "metadata": {
    "colab": {
     "base_uri": "https://localhost:8080/",
     "height": 206
    },
    "executionInfo": {
     "elapsed": 1769,
     "status": "ok",
     "timestamp": 1682329497809,
     "user": {
      "displayName": "NIhal Sayyad",
      "userId": "04815193151422272078"
     },
     "user_tz": -330
    },
    "id": "Ih74rihzlSA0",
    "outputId": "6d3db244-30de-48ef-ff2d-d3042b103297"
   },
   "outputs": [
    {
     "data": {
      "text/html": [
       "<div>\n",
       "<style scoped>\n",
       "    .dataframe tbody tr th:only-of-type {\n",
       "        vertical-align: middle;\n",
       "    }\n",
       "\n",
       "    .dataframe tbody tr th {\n",
       "        vertical-align: top;\n",
       "    }\n",
       "\n",
       "    .dataframe thead th {\n",
       "        text-align: right;\n",
       "    }\n",
       "</style>\n",
       "<table border=\"1\" class=\"dataframe\">\n",
       "  <thead>\n",
       "    <tr style=\"text-align: right;\">\n",
       "      <th></th>\n",
       "      <th>color_1</th>\n",
       "      <th>color_2</th>\n",
       "      <th>color_3</th>\n",
       "    </tr>\n",
       "  </thead>\n",
       "  <tbody>\n",
       "    <tr>\n",
       "      <th>0</th>\n",
       "      <td>1</td>\n",
       "      <td>0</td>\n",
       "      <td>0</td>\n",
       "    </tr>\n",
       "    <tr>\n",
       "      <th>1</th>\n",
       "      <td>0</td>\n",
       "      <td>1</td>\n",
       "      <td>0</td>\n",
       "    </tr>\n",
       "    <tr>\n",
       "      <th>2</th>\n",
       "      <td>0</td>\n",
       "      <td>0</td>\n",
       "      <td>1</td>\n",
       "    </tr>\n",
       "    <tr>\n",
       "      <th>3</th>\n",
       "      <td>1</td>\n",
       "      <td>0</td>\n",
       "      <td>0</td>\n",
       "    </tr>\n",
       "    <tr>\n",
       "      <th>4</th>\n",
       "      <td>0</td>\n",
       "      <td>1</td>\n",
       "      <td>0</td>\n",
       "    </tr>\n",
       "  </tbody>\n",
       "</table>\n",
       "</div>"
      ],
      "text/plain": [
       "   color_1  color_2  color_3\n",
       "0        1        0        0\n",
       "1        0        1        0\n",
       "2        0        0        1\n",
       "3        1        0        0\n",
       "4        0        1        0"
      ]
     },
     "execution_count": 4,
     "metadata": {},
     "output_type": "execute_result"
    }
   ],
   "source": [
    "import pandas as pd\n",
    "from category_encoders import OneHotEncoder\n",
    "# create sample data\n",
    "df = pd.DataFrame({'color': ['red', 'blue', 'green', 'red', 'blue']})\n",
    "# create OneHotEncoder object\n",
    "\n",
    "# encode the data\n",
    "encoded_data = OneHotEncoder(cols=['color']).fit(df).transform(df)\n",
    "encoded_data\n"
   ]
  },
  {
   "cell_type": "markdown",
   "metadata": {
    "id": "xIbwWEwdnkBa"
   },
   "source": [
    "## Dummy Encoder"
   ]
  },
  {
   "cell_type": "code",
   "execution_count": 5,
   "metadata": {
    "colab": {
     "base_uri": "https://localhost:8080/",
     "height": 206
    },
    "executionInfo": {
     "elapsed": 62,
     "status": "ok",
     "timestamp": 1682329497811,
     "user": {
      "displayName": "NIhal Sayyad",
      "userId": "04815193151422272078"
     },
     "user_tz": -330
    },
    "id": "B0ffA0wvnqRn",
    "outputId": "a08464fb-1d56-47ea-ba6c-251881f1c236"
   },
   "outputs": [
    {
     "data": {
      "text/html": [
       "<div>\n",
       "<style scoped>\n",
       "    .dataframe tbody tr th:only-of-type {\n",
       "        vertical-align: middle;\n",
       "    }\n",
       "\n",
       "    .dataframe tbody tr th {\n",
       "        vertical-align: top;\n",
       "    }\n",
       "\n",
       "    .dataframe thead th {\n",
       "        text-align: right;\n",
       "    }\n",
       "</style>\n",
       "<table border=\"1\" class=\"dataframe\">\n",
       "  <thead>\n",
       "    <tr style=\"text-align: right;\">\n",
       "      <th></th>\n",
       "      <th>blue</th>\n",
       "      <th>green</th>\n",
       "      <th>red</th>\n",
       "    </tr>\n",
       "  </thead>\n",
       "  <tbody>\n",
       "    <tr>\n",
       "      <th>0</th>\n",
       "      <td>False</td>\n",
       "      <td>False</td>\n",
       "      <td>True</td>\n",
       "    </tr>\n",
       "    <tr>\n",
       "      <th>1</th>\n",
       "      <td>True</td>\n",
       "      <td>False</td>\n",
       "      <td>False</td>\n",
       "    </tr>\n",
       "    <tr>\n",
       "      <th>2</th>\n",
       "      <td>False</td>\n",
       "      <td>True</td>\n",
       "      <td>False</td>\n",
       "    </tr>\n",
       "    <tr>\n",
       "      <th>3</th>\n",
       "      <td>False</td>\n",
       "      <td>False</td>\n",
       "      <td>True</td>\n",
       "    </tr>\n",
       "    <tr>\n",
       "      <th>4</th>\n",
       "      <td>True</td>\n",
       "      <td>False</td>\n",
       "      <td>False</td>\n",
       "    </tr>\n",
       "  </tbody>\n",
       "</table>\n",
       "</div>"
      ],
      "text/plain": [
       "    blue  green    red\n",
       "0  False  False   True\n",
       "1   True  False  False\n",
       "2  False   True  False\n",
       "3  False  False   True\n",
       "4   True  False  False"
      ]
     },
     "execution_count": 5,
     "metadata": {},
     "output_type": "execute_result"
    }
   ],
   "source": [
    "# use get_dummies() to perform one-hot encoding\n",
    "one_hot = pd.get_dummies(df['color'])\n",
    "one_hot"
   ]
  },
  {
   "cell_type": "code",
   "execution_count": 6,
   "metadata": {
    "executionInfo": {
     "elapsed": 60,
     "status": "ok",
     "timestamp": 1682329497812,
     "user": {
      "displayName": "NIhal Sayyad",
      "userId": "04815193151422272078"
     },
     "user_tz": -330
    },
    "id": "rJKwVFn7nunf"
   },
   "outputs": [],
   "source": [
    "## Label / Ordinal encoding"
   ]
  },
  {
   "cell_type": "code",
   "execution_count": 7,
   "metadata": {
    "colab": {
     "base_uri": "https://localhost:8080/",
     "height": 0
    },
    "executionInfo": {
     "elapsed": 60,
     "status": "ok",
     "timestamp": 1682329497813,
     "user": {
      "displayName": "NIhal Sayyad",
      "userId": "04815193151422272078"
     },
     "user_tz": -330
    },
    "id": "4_DIhi6anyiw",
    "outputId": "5b7c4da0-4d4a-4478-b967-7e570e0db3e4"
   },
   "outputs": [
    {
     "name": "stdout",
     "output_type": "stream",
     "text": [
      "   color  encoded_color\n",
      "0    red              2\n",
      "1   blue              0\n",
      "2  green              1\n",
      "3    red              2\n",
      "4   blue              0\n"
     ]
    }
   ],
   "source": [
    "import pandas as pd\n",
    "from sklearn.preprocessing import LabelEncoder\n",
    "# create sample data\n",
    "df = pd.DataFrame({'color': ['red', 'blue', 'green', 'red', 'blue']})\n",
    "# create LabelEncoder object\n",
    "encoder = LabelEncoder()\n",
    "# encode the data\n",
    "df['encoded_color'] = encoder.fit_transform(df['color'])\n",
    "# print the encoded dataframe\n",
    "print(df)"
   ]
  },
  {
   "cell_type": "markdown",
   "metadata": {
    "id": "4CRlYoeun70_"
   },
   "source": [
    "# Target encoding\n"
   ]
  },
  {
   "cell_type": "code",
   "execution_count": 8,
   "metadata": {
    "colab": {
     "base_uri": "https://localhost:8080/",
     "height": 0
    },
    "executionInfo": {
     "elapsed": 52,
     "status": "ok",
     "timestamp": 1682329497815,
     "user": {
      "displayName": "NIhal Sayyad",
      "userId": "04815193151422272078"
     },
     "user_tz": -330
    },
    "id": "kL1XIm_coASF",
    "outputId": "b2721659-9284-4f6a-900b-fe1e68df974d"
   },
   "outputs": [
    {
     "name": "stdout",
     "output_type": "stream",
     "text": [
      "      color  label\n",
      "0  0.656740      1\n",
      "1  0.514889      0\n",
      "2  0.652043      1\n",
      "3  0.656740      1\n",
      "4  0.514889      0\n"
     ]
    }
   ],
   "source": [
    "import pandas as pd\n",
    "from category_encoders import TargetEncoder\n",
    "# create sample data\n",
    "df = pd.DataFrame({'color': ['red', 'blue', 'green', 'red', 'blue'],\n",
    "'label': [1, 0, 1, 1, 0]})\n",
    "# create TargetEncoder object\n",
    "encoder = TargetEncoder(cols=['color'])\n",
    "# encode the data\n",
    "df = encoder.fit_transform(df, df['label'])\n",
    "# print the encoded dataframe\n",
    "print(df)"
   ]
  },
  {
   "cell_type": "markdown",
   "metadata": {
    "id": "tcFDKLx2oE3w"
   },
   "source": [
    "##Frequency / count encoding"
   ]
  },
  {
   "cell_type": "code",
   "execution_count": 9,
   "metadata": {
    "colab": {
     "base_uri": "https://localhost:8080/",
     "height": 0
    },
    "executionInfo": {
     "elapsed": 48,
     "status": "ok",
     "timestamp": 1682329497816,
     "user": {
      "displayName": "NIhal Sayyad",
      "userId": "04815193151422272078"
     },
     "user_tz": -330
    },
    "id": "771ktEtzoAX_",
    "outputId": "d056440b-8255-4e07-ac3a-a6258e53cc20"
   },
   "outputs": [
    {
     "name": "stdout",
     "output_type": "stream",
     "text": [
      "   color  count_encoded\n",
      "0    red              2\n",
      "1   blue              2\n",
      "2  green              1\n",
      "3    red              2\n",
      "4   blue              2\n"
     ]
    }
   ],
   "source": [
    "import pandas as pd\n",
    "# create sample data\n",
    "df = pd.DataFrame({'color': ['red', 'blue', 'green', 'red', 'blue']})\n",
    "# create count dictionary\n",
    "count_dict = df['color'].value_counts().to_dict()\n",
    "# map count dictionary to create new column with count values\n",
    "df['count_encoded'] = df['color'].map(count_dict)\n",
    "# print the encoded dataframe\n",
    "print(df)"
   ]
  },
  {
   "cell_type": "markdown",
   "metadata": {
    "id": "F8lcrUcYoI4W"
   },
   "source": [
    "## Binary encoding"
   ]
  },
  {
   "cell_type": "code",
   "execution_count": 10,
   "metadata": {
    "colab": {
     "base_uri": "https://localhost:8080/",
     "height": 0
    },
    "executionInfo": {
     "elapsed": 43,
     "status": "ok",
     "timestamp": 1682329497817,
     "user": {
      "displayName": "NIhal Sayyad",
      "userId": "04815193151422272078"
     },
     "user_tz": -330
    },
    "id": "y4AvCoIToKpO",
    "outputId": "103f3396-29b6-4953-a653-b590cd4dfee5"
   },
   "outputs": [
    {
     "name": "stdout",
     "output_type": "stream",
     "text": [
      "   color  color_0  color_1\n",
      "0    red        0        1\n",
      "1   blue        1        0\n",
      "2  green        1        1\n",
      "3    red        0        1\n",
      "4   blue        1        0\n"
     ]
    }
   ],
   "source": [
    "import pandas as pd\n",
    "from category_encoders import BinaryEncoder\n",
    "# create sample data\n",
    "df = pd.DataFrame({'color': ['red', 'blue', 'green', 'red', 'blue']})\n",
    "# create BinaryEncoder object\n",
    "encoder = BinaryEncoder()\n",
    "# encode the data\n",
    "encoded_data = encoder.fit_transform(df['color'])\n",
    "# create a new dataframe with the encoded data\n",
    "encoded_df = pd.concat([df, encoded_data], axis=1)\n",
    "# print the encoded dataframe\n",
    "print(encoded_df)"
   ]
  },
  {
   "cell_type": "markdown",
   "metadata": {
    "id": "DdLCfzWooMou"
   },
   "source": [
    "## Feature Hashing"
   ]
  },
  {
   "cell_type": "code",
   "execution_count": 11,
   "metadata": {
    "colab": {
     "base_uri": "https://localhost:8080/",
     "height": 206
    },
    "executionInfo": {
     "elapsed": 459,
     "status": "ok",
     "timestamp": 1682329498239,
     "user": {
      "displayName": "NIhal Sayyad",
      "userId": "04815193151422272078"
     },
     "user_tz": -330
    },
    "id": "Bpor2JQRoPWH",
    "outputId": "3127db78-6046-4cd5-eb55-5482541d163f"
   },
   "outputs": [
    {
     "data": {
      "text/html": [
       "<div>\n",
       "<style scoped>\n",
       "    .dataframe tbody tr th:only-of-type {\n",
       "        vertical-align: middle;\n",
       "    }\n",
       "\n",
       "    .dataframe tbody tr th {\n",
       "        vertical-align: top;\n",
       "    }\n",
       "\n",
       "    .dataframe thead th {\n",
       "        text-align: right;\n",
       "    }\n",
       "</style>\n",
       "<table border=\"1\" class=\"dataframe\">\n",
       "  <thead>\n",
       "    <tr style=\"text-align: right;\">\n",
       "      <th></th>\n",
       "      <th>col_0</th>\n",
       "      <th>col_1</th>\n",
       "      <th>col_2</th>\n",
       "      <th>col_3</th>\n",
       "      <th>col_4</th>\n",
       "      <th>col_5</th>\n",
       "      <th>col_6</th>\n",
       "      <th>col_7</th>\n",
       "    </tr>\n",
       "  </thead>\n",
       "  <tbody>\n",
       "    <tr>\n",
       "      <th>0</th>\n",
       "      <td>0</td>\n",
       "      <td>0</td>\n",
       "      <td>0</td>\n",
       "      <td>0</td>\n",
       "      <td>1</td>\n",
       "      <td>0</td>\n",
       "      <td>0</td>\n",
       "      <td>0</td>\n",
       "    </tr>\n",
       "    <tr>\n",
       "      <th>1</th>\n",
       "      <td>0</td>\n",
       "      <td>0</td>\n",
       "      <td>0</td>\n",
       "      <td>0</td>\n",
       "      <td>0</td>\n",
       "      <td>0</td>\n",
       "      <td>0</td>\n",
       "      <td>1</td>\n",
       "    </tr>\n",
       "    <tr>\n",
       "      <th>2</th>\n",
       "      <td>1</td>\n",
       "      <td>0</td>\n",
       "      <td>0</td>\n",
       "      <td>0</td>\n",
       "      <td>0</td>\n",
       "      <td>0</td>\n",
       "      <td>0</td>\n",
       "      <td>0</td>\n",
       "    </tr>\n",
       "    <tr>\n",
       "      <th>3</th>\n",
       "      <td>0</td>\n",
       "      <td>0</td>\n",
       "      <td>0</td>\n",
       "      <td>0</td>\n",
       "      <td>1</td>\n",
       "      <td>0</td>\n",
       "      <td>0</td>\n",
       "      <td>0</td>\n",
       "    </tr>\n",
       "    <tr>\n",
       "      <th>4</th>\n",
       "      <td>0</td>\n",
       "      <td>0</td>\n",
       "      <td>0</td>\n",
       "      <td>0</td>\n",
       "      <td>0</td>\n",
       "      <td>0</td>\n",
       "      <td>0</td>\n",
       "      <td>1</td>\n",
       "    </tr>\n",
       "  </tbody>\n",
       "</table>\n",
       "</div>"
      ],
      "text/plain": [
       "   col_0  col_1  col_2  col_3  col_4  col_5  col_6  col_7\n",
       "0      0      0      0      0      1      0      0      0\n",
       "1      0      0      0      0      0      0      0      1\n",
       "2      1      0      0      0      0      0      0      0\n",
       "3      0      0      0      0      1      0      0      0\n",
       "4      0      0      0      0      0      0      0      1"
      ]
     },
     "execution_count": 11,
     "metadata": {},
     "output_type": "execute_result"
    }
   ],
   "source": [
    "import pandas as pd\n",
    "from category_encoders import HashingEncoder\n",
    "# create sample data\n",
    "df = pd.DataFrame({'color': ['red', 'blue', 'green', 'red', 'blue']})\n",
    "\n",
    "encoded_data=HashingEncoder(cols='color').fit(df).transform(df)\n",
    "encoded_data"
   ]
  },
  {
   "cell_type": "markdown",
   "metadata": {
    "id": "VONLf3w0oS7m"
   },
   "source": [
    "## Pearson’s coefficient."
   ]
  },
  {
   "cell_type": "code",
   "execution_count": 12,
   "metadata": {
    "colab": {
     "base_uri": "https://localhost:8080/",
     "height": 0
    },
    "executionInfo": {
     "elapsed": 24,
     "status": "ok",
     "timestamp": 1682329498241,
     "user": {
      "displayName": "NIhal Sayyad",
      "userId": "04815193151422272078"
     },
     "user_tz": -330
    },
    "id": "xYDLKpxBoURW",
    "outputId": "9f8d77d3-2777-4599-8047-044a1f27e3ee"
   },
   "outputs": [
    {
     "name": "stdout",
     "output_type": "stream",
     "text": [
      "Pearson's coefficient: 1.0\n",
      "p-value: 0.0\n"
     ]
    }
   ],
   "source": [
    "import pandas as pd\n",
    "from scipy.stats import pearsonr\n",
    "# create sample data\n",
    "df = pd.DataFrame({'x': [1, 2, 3, 4, 5], 'y': [2, 4, 6, 8, 10]})\n",
    "# calculate Pearson's coefficient and p-value\n",
    "pearson_coeff, p_value = pearsonr(df['x'], df['y'])\n",
    "# print the results\n",
    "print(\"Pearson's coefficient:\", pearson_coeff)\n",
    "print(\"p-value:\", p_value)"
   ]
  },
  {
   "cell_type": "markdown",
   "metadata": {
    "id": "XmUNsSk2oYwH"
   },
   "source": [
    "## Correlation Matrix."
   ]
  },
  {
   "cell_type": "code",
   "execution_count": 13,
   "metadata": {
    "colab": {
     "base_uri": "https://localhost:8080/",
     "height": 0
    },
    "executionInfo": {
     "elapsed": 20,
     "status": "ok",
     "timestamp": 1682329498242,
     "user": {
      "displayName": "NIhal Sayyad",
      "userId": "04815193151422272078"
     },
     "user_tz": -330
    },
    "id": "v6sDNmvZoaQ3",
    "outputId": "1c3c6d1c-055e-40e6-efc3-ed6932e0e054"
   },
   "outputs": [
    {
     "name": "stdout",
     "output_type": "stream",
     "text": [
      "     x    y    z\n",
      "x  1.0  1.0  1.0\n",
      "y  1.0  1.0  1.0\n",
      "z  1.0  1.0  1.0\n"
     ]
    }
   ],
   "source": [
    "import pandas as pd\n",
    "# create sample data\n",
    "df = pd.DataFrame({'x': [1, 2, 3, 4, 5], 'y': [2, 4, 6, 8, 10], 'z': [1, 3, 5,7, 9]})\n",
    "# create correlation matrix\n",
    "correlation_matrix = df.corr()\n",
    "# print the correlation matrix\n",
    "print(correlation_matrix)"
   ]
  },
  {
   "cell_type": "markdown",
   "metadata": {
    "id": "HxwcLD4bogN7"
   },
   "source": [
    "## Positive, Neutral, Negative Correlation.\n"
   ]
  },
  {
   "cell_type": "code",
   "execution_count": 14,
   "metadata": {
    "colab": {
     "base_uri": "https://localhost:8080/",
     "height": 0
    },
    "executionInfo": {
     "elapsed": 17,
     "status": "ok",
     "timestamp": 1682329498244,
     "user": {
      "displayName": "NIhal Sayyad",
      "userId": "04815193151422272078"
     },
     "user_tz": -330
    },
    "id": "MEu1sCRXojbP",
    "outputId": "cb3f8613-60a7-4549-9b25-1c15bb940eac"
   },
   "outputs": [
    {
     "name": "stdout",
     "output_type": "stream",
     "text": [
      "The correlation between x and y is positive\n"
     ]
    }
   ],
   "source": [
    "import pandas as pd\n",
    "# create sample data\n",
    "df = pd.DataFrame({'x': [1, 2, 3, 4, 5], 'y': [2, 4, 6, 8, 10]})\n",
    "# calculate Pearson's coefficient\n",
    "pearson_coeff = df['x'].corr(df['y'])\n",
    "# identify the type of correlation\n",
    "if pearson_coeff > 0:\n",
    "  correlation_type = 'positive'\n",
    "elif pearson_coeff == 0:\n",
    "  correlation_type = 'neutral'\n",
    "else:\n",
    "  correlation_type = 'negative'\n",
    "# print the type of correlation\n",
    "print('The correlation between x and y is', correlation_type)"
   ]
  },
  {
   "cell_type": "code",
   "execution_count": null,
   "metadata": {},
   "outputs": [],
   "source": []
  },
  {
   "cell_type": "code",
   "execution_count": null,
   "metadata": {},
   "outputs": [],
   "source": []
  }
 ],
 "metadata": {
  "colab": {
   "authorship_tag": "ABX9TyOBFRuriPRQnBJugvJnPsu8",
   "provenance": []
  },
  "kernelspec": {
   "display_name": "Python 3 (ipykernel)",
   "language": "python",
   "name": "python3"
  },
  "language_info": {
   "codemirror_mode": {
    "name": "ipython",
    "version": 3
   },
   "file_extension": ".py",
   "mimetype": "text/x-python",
   "name": "python",
   "nbconvert_exporter": "python",
   "pygments_lexer": "ipython3",
   "version": "3.11.3"
  }
 },
 "nbformat": 4,
 "nbformat_minor": 1
}
